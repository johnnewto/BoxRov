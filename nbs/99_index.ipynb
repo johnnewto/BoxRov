{
 "cells": [
  {
   "cell_type": "code",
   "execution_count": null,
   "metadata": {},
   "outputs": [],
   "source": [
    "# default_exp index"
   ]
  },
  {
   "cell_type": "markdown",
   "metadata": {},
   "source": [
    "# Welcome to BoxSim Simulation of imaging functions for ROV\n",
    "\n",
    "> experimental simulator for Boxfish\n",
    "> Code to run image aquisition simulation and trajectories.\n",
    "> cool"
   ]
  },
  {
   "cell_type": "code",
   "execution_count": null,
   "metadata": {},
   "outputs": [],
   "source": [
    "# # hide\n",
    "# from boxsim.trajectory import *\n",
    "# from nbdev.showdoc import show_doc"
   ]
  },
  {
   "cell_type": "code",
   "execution_count": null,
   "metadata": {},
   "outputs": [],
   "source": [
    "# hide\n",
    "# %reload_ext autoreload\n",
    "# %autoreload 2\n",
    "# %matplotlib inline"
   ]
  },
  {
   "cell_type": "code",
   "execution_count": null,
   "metadata": {},
   "outputs": [],
   "source": [
    "# # export\n",
    "# import matplotlib.pyplot as plt\n",
    "# import cv2\n",
    "# \n",
    "# import PIL\n",
    "# import numpy as np\n",
    "# \n",
    "# import moviepy.editor as mvp\n",
    "# from boxsim.trajectory import *\n"
   ]
  },
  {
   "cell_type": "code",
   "execution_count": null,
   "metadata": {},
   "outputs": [],
   "source": [
    "# Future possibly\n",
    "# `pip install your_project_name`\n"
   ]
  },
  {
   "cell_type": "markdown",
   "metadata": {},
   "source": [
    "# Boxfish Simulator"
   ]
  },
  {
   "cell_type": "markdown",
   "metadata": {},
   "source": [
    "> Example input image"
   ]
  },
  {
   "cell_type": "code",
   "execution_count": null,
   "metadata": {},
   "outputs": [],
   "source": [
    "# main_img = np.asarray(PIL.Image.open(\"Yosemite_NP_M.jpg\"))\n",
    "# show_img(main_img)"
   ]
  },
  {
   "cell_type": "markdown",
   "metadata": {},
   "source": [
    "> Show the trajectory of the random walk around the image\n",
    "- X,Y dimensions are in pixels and starts at pixel 0,0"
   ]
  },
  {
   "cell_type": "code",
   "execution_count": null,
   "metadata": {},
   "outputs": [],
   "source": [
    "# traj= Trajectory(np.asarray(PIL.Image.open(\"Yosemite_NP_M.jpg\")), 50)\n",
    "# plt.plot(traj.xyza[:,0], traj.xyza[:,1])\n",
    "# plt.legend(['Ground Truth XY trajectory'])\n",
    "# plt.title('2d XY')\n",
    "# plt.show()\n"
   ]
  },
  {
   "cell_type": "markdown",
   "metadata": {},
   "source": [
    "> Show result video"
   ]
  },
  {
   "cell_type": "code",
   "execution_count": null,
   "metadata": {},
   "outputs": [],
   "source": [
    "# mvp.ipython_display('out.mp4', loop=True)"
   ]
  },
  {
   "cell_type": "code",
   "execution_count": null,
   "metadata": {},
   "outputs": [],
   "source": []
  }
 ],
 "metadata": {
  "kernelspec": {
   "display_name": "Python 3",
   "language": "python",
   "name": "python3"
  }
 },
 "nbformat": 4,
 "nbformat_minor": 2
}
